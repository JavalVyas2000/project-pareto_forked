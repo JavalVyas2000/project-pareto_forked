{
 "cells": [
  {
   "cell_type": "markdown",
   "metadata": {},
   "source": [
    "# PARETO - Strategic Model Tracking Water Quality and Sensitivity Analysis\n",
    "The purpose of this Jupyter notebook is to provide an overview of the features which comprise the water quality and water treatment module within PARETO's strategic model, and to show PARETO advanced capabilities for produced water networks with water quality limitations. \n",
    "\n",
    "## Water Quality Challenges in Practice: \n",
    "In daily operations, water quality is important to minimize corrosion, scaling, and sulfate issues. While in the long term, water quality can be used to determine treatment technology selection and/or performance. \n",
    " \n",
    "PARETO water quality helps: \n",
    "- tracking constituent propagation\n",
    "- capturing water quality fluctuations\n",
    "- water management / water blending to meet certain specifications\n",
    "\n",
    "This notebook demonstrates PARETO capabilities to track water quality and to re-design the produced water network to minimize TDS in specific locations in the network.\n",
    "\n",
    "The rest of this demonstration is organized as follows:\n",
    "1. [Water quality module data requirements](#data)\n",
    "2. [Set up and solve Pyomo model](#solve)\n",
    "3. [Sensitivity analysis](#sensitivity)\n",
    "4. [Add additional constraints to the model](#additional_constraints)"
   ]
  },
  {
   "cell_type": "markdown",
   "metadata": {},
   "source": [
    "## Case Study\n",
    "This demo is based on PARETO's strategic toy case study. Relevant links:\n",
    "- [Strategic model documentation](https://pareto.readthedocs.io/en/latest/model_library/strategic_water_management/index.html)\n",
    "- [Documentation of PARETO case studies](https://pareto.readthedocs.io/en/latest/case_studies/index.html)\n",
    "\n",
    "The strategic toy case study features a small produced water network, but realistic produced water network. The size of this example makes it useful for testing, debugging, demonstrations, etc. Below is a schematic image of the strategic toy network:\n",
    "\n",
    "![Strategic toy case study network](./strategic_toy_network.png)\n"
   ]
  },
  {
   "cell_type": "markdown",
   "metadata": {},
   "source": [
    "## <a id='data'></a> 1. Water quality module data requirements\n",
    "\n",
    "In order to track water quality, water quality for inlet flows is required:  \n",
    "- Storage initial water quality\n",
    "- Pad water quality (production and completions pads)\n",
    "- Desalination technologies\n",
    "\n",
    "### Storage initial water quality\n",
    "In tab \"StorageInitialWaterQuality\", specify the initial quality of the water in each storage site:\n",
    "\n",
    "![Storage initial quality](./data_input_storage_initial_quality.png)\n",
    "\n",
    "### Pad storage initial water quality\n",
    "In tab \"PadStorageInitialWaterQuality\", specify the initial quality of the water at the built-in storage at each completions pad:\n",
    "\n",
    "![Pad storage initial quality](./data_input_pad_storage_initial_quality.png)\n",
    "\n",
    "### Pad water quality\n",
    "In tab \"PadWaterQuality\", specify the concentration of each quality component in the produced water which comes from each production pad and completions pad:\n",
    "\n",
    "![Pad water quality](./data_input_pad_water_quality.png)\n",
    "\n",
    "IMPORTANT: The column header(s) in this tab are used to specify the quality components that are part of the model. That is, there is not a separate tab to specify the quality components. In the above screenshot, there is only one quality component (TDS).\n",
    "\n",
    "### Treatment technologies\n",
    "Since our objective is to minimize TDS concentration to the desalinatino technologies, this case study includes the option to install different desalination technologies:\n",
    "\n",
    "![Treatment technologies](./data_input_treatment_technologies.png)\n",
    "\n",
    "In the above list, the abbreviations stand for the following treatment technologies:\n",
    "- CB: Clean brine. This is a catch-all term meant to refer to any non-desalination treatment technology. \n",
    "- CB-EV: Clean brine with enhanced evaporation. Clean brine treatment, but also includes specailized equipment used to increase the rate of evaporation of wastewater from a storage pond into the atmosphere.\n",
    "- MVC: Mechanical vapor compression desalination.\n",
    "- MD: Membrane distillation desalination.\n",
    "- OARO: Osmotically assisted reverse osmosis desalination.\n",
    "\n",
    "For a detailed description of the inputs required to run this cases study, please visit PARETO case study documentation. Link here"
   ]
  },
  {
   "cell_type": "markdown",
   "metadata": {},
   "source": [
    "## <a id='solve'></a> 2. Set up and solve Pyomo model\n",
    "The following code creates and solves the Pyomo model and exports the optimization results to an Excel workbook:"
   ]
  },
  {
   "cell_type": "code",
   "execution_count": 2,
   "metadata": {
    "scrolled": true
   },
   "outputs": [
    {
     "name": "stderr",
     "output_type": "stream",
     "text": [
      "C:\\Users\\javal\\AppData\\Local\\Temp\\ipykernel_35372\\1513010425.py:46: UserWarning: Invalid PARETO input has been provided. Check that the input tab names match valid PARETO input. If you'd like to read custom tabs (e.g., PARETO output files), please pass a list of the custom tab names to get_data(). The following tabs are not standard PARETO inputs for the selected model type: ['ProductionTanks']\n",
      "  [df_sets, df_parameters] = get_data(fpath)\n",
      "Loading failed for sheet 'RKA': ValueError('Passed header=[1], len of 1, but only 1 lines in file (sheet: RKA)')\n",
      "Loading failed for sheet 'RKT': ValueError('Passed header=[1], len of 1, but only 1 lines in file (sheet: RKT)')\n",
      "c:\\users\\javal\\desktop\\internship\\pareto\\project-pareto_forked\\pareto\\utilities\\get_data.py:287: UserWarning: Data loading failed for the following sheets: \n",
      "\tRKA\tPassed header=[1], len of 1, but only 1 lines in file (sheet: RKA)\n",
      "\tRKT\tPassed header=[1], len of 1, but only 1 lines in file (sheet: RKT)\n",
      "This may be because the sheets are empty (possibly excepting a header).\n",
      "For these sheets, an empty dataframe is used as fallback.\n",
      "\n",
      "  warnings.warn(\n",
      "c:\\users\\javal\\desktop\\internship\\pareto\\project-pareto_forked\\pareto\\strategic_water_management\\strategic_produced_water_optimization.py:287: UserWarning: StorageSites are given, but StorageSites data is missing. Inputs for the following tabs have been set to default values: {'InitialStorageLevel', 'StorageCost', 'StorageWithdrawalRevenue'}\n",
      "  model.df_sets, model.df_parameters = check_required_data(\n",
      "C:\\Users\\javal\\AppData\\Local\\Temp\\ipykernel_35372\\1513010425.py:49: UserWarning: The following parameters were missing and default values were substituted: ['DesalinationSurrogate']\n",
      "  strategic_model = create_model(\n"
     ]
    },
    {
     "name": "stdout",
     "output_type": "stream",
     "text": [
      "Setting currency to: USD\n",
      "Model solved using gurobi_direct\n",
      "\n",
      "\n",
      "**************************************************\n",
      "                Solving unscaled model\n",
      "**************************************************\n",
      "Set parameter TimeLimit to value 300\n",
      "Set parameter MIPGap to value 0\n",
      "Set parameter NumericFocus to value 1\n",
      "Gurobi Optimizer version 10.0.2 build v10.0.2rc0 (win64)\n",
      "\n",
      "CPU model: 11th Gen Intel(R) Core(TM) i7-1165G7 @ 2.80GHz, instruction set [SSE2|AVX|AVX2|AVX512]\n",
      "Thread count: 4 physical cores, 8 logical processors, using up to 8 threads\n",
      "\n",
      "Optimize a model with 16162 rows, 116631 columns and 61003 nonzeros\n",
      "Model fingerprint: 0x7a6f354a\n",
      "Variable types: 77883 continuous, 38748 integer (38748 binary)\n",
      "Coefficient statistics:\n",
      "  Matrix range     [1e-04, 4e+06]\n",
      "  Objective range  [1e+00, 1e+00]\n",
      "  Bounds range     [1e+00, 1e+00]\n",
      "  RHS range        [1e+00, 1e+05]\n",
      "Presolve removed 11100 rows and 112880 columns\n",
      "Presolve time: 0.13s\n",
      "Presolved: 5062 rows, 3751 columns, 22435 nonzeros\n",
      "Variable types: 3103 continuous, 648 integer (630 binary)\n",
      "\n",
      "Root relaxation: objective -1.209092e+04, 1370 iterations, 0.05 seconds (0.03 work units)\n",
      "\n",
      "    Nodes    |    Current Node    |     Objective Bounds      |     Work\n",
      " Expl Unexpl |  Obj  Depth IntInf | Incumbent    BestBd   Gap | It/Node Time\n",
      "\n",
      "     0     0 -12090.915    0   16          - -12090.915      -     -    0s\n",
      "     0     0 -11628.061    0   66          - -11628.061      -     -    0s\n",
      "     0     0 -11420.105    0   66          - -11420.105      -     -    0s\n",
      "     0     0 -11212.554    0   66          - -11212.554      -     -    0s\n",
      "     0     0 -10929.515    0   66          - -10929.515      -     -    0s\n",
      "     0     0 -10582.960    0   71          - -10582.960      -     -    0s\n",
      "     0     0 -10544.093    0   73          - -10544.093      -     -    0s\n",
      "     0     0 -10462.438    0   75          - -10462.438      -     -    0s\n",
      "     0     0 -10448.912    0   71          - -10448.912      -     -    0s\n",
      "     0     0 -10442.995    0   71          - -10442.995      -     -    0s\n",
      "     0     0 -10437.090    0   71          - -10437.090      -     -    0s\n",
      "     0     0 -10431.197    0   71          - -10431.197      -     -    0s\n",
      "     0     0 -10419.565    0   76          - -10419.565      -     -    0s\n",
      "     0     0 -10419.305    0   70          - -10419.305      -     -    0s\n",
      "     0     0 -10417.269    0   59          - -10417.269      -     -    0s\n",
      "     0     0 -10415.748    0   57          - -10415.748      -     -    0s\n",
      "     0     0 -10414.699    0   59          - -10414.699      -     -    0s\n",
      "     0     0 -10414.666    0   57          - -10414.666      -     -    0s\n",
      "     0     0 -10198.980    0   70          - -10198.980      -     -    0s\n",
      "     0     0 -10190.624    0   63          - -10190.624      -     -    0s\n",
      "     0     0 -10189.951    0   61          - -10189.951      -     -    0s\n",
      "H    0     0                    2178706.2584 -9239.2896   100%     -    0s\n",
      "     0     0 -6822.6079    0  103 2178706.26 -6822.6079   100%     -    0s\n",
      "     0     0 -6821.9409    0   68 2178706.26 -6821.9409   100%     -    1s\n",
      "     0     0 -6821.9409    0   70 2178706.26 -6821.9409   100%     -    1s\n",
      "     0     0 -6821.9409    0   70 2178706.26 -6821.9409   100%     -    1s\n",
      "H    0     0                    6143.6678805 -6821.9409   211%     -    1s\n",
      "     0     0 -6821.9409    0  124 6143.66788 -6821.9409   211%     -    1s\n",
      "H    0     0                    6122.5178210 -6821.9409   211%     -    1s\n",
      "     0     0 -6821.9409    0  128 6122.51782 -6821.9409   211%     -    1s\n",
      "     0     0 -5961.0229    0  126 6122.51782 -5961.0229   197%     -    1s\n",
      "     0     0 -5961.0229    0  124 6122.51782 -5961.0229   197%     -    1s\n",
      "     0     0 -5961.0229    0  127 6122.51782 -5961.0229   197%     -    1s\n",
      "     0     0 -4321.1952    0  114 6122.51782 -4321.1952   171%     -    1s\n",
      "     0     0 -4321.1952    0  115 6122.51782 -4321.1952   171%     -    1s\n",
      "     0     0 -4321.1952    0  114 6122.51782 -4321.1952   171%     -    1s\n",
      "     0     0 -584.94483    0  115 6122.51782 -584.94483   110%     -    1s\n",
      "     0     0 -584.94483    0  115 6122.51782 -584.94483   110%     -    1s\n",
      "     0     0 -584.94483    0  115 6122.51782 -584.94483   110%     -    1s\n",
      "     0     2 -584.94483    0  115 6122.51782 -584.94483   110%     -    1s\n",
      "\n",
      "Cutting planes:\n",
      "  Learned: 19\n",
      "  Gomory: 38\n",
      "  Implied bound: 57\n",
      "  MIR: 228\n",
      "  Flow cover: 249\n",
      "  RLT: 3\n",
      "  Relax-and-lift: 52\n",
      "\n",
      "Explored 723 nodes (98970 simplex iterations) in 4.15 seconds (3.11 work units)\n",
      "Thread count was 8 (of 8 available processors)\n",
      "\n",
      "Solution count 3: 6122.52 6143.67 2.17871e+06 \n",
      "\n",
      "Optimal solution found (tolerance 0.00e+00)\n",
      "Best objective 6.122517820955e+03, best bound 6.122517820955e+03, gap 0.0000%\n",
      "Set parameter TimeLimit to value 300\n",
      "Set parameter MIPGap to value 0\n",
      "Set parameter NumericFocus to value 1\n",
      "Gurobi Optimizer version 10.0.2 build v10.0.2rc0 (win64)\n",
      "\n",
      "CPU model: 11th Gen Intel(R) Core(TM) i7-1165G7 @ 2.80GHz, instruction set [SSE2|AVX|AVX2|AVX512]\n",
      "Thread count: 4 physical cores, 8 logical processors, using up to 8 threads\n",
      "\n",
      "Optimize a model with 2289 rows, 1665 columns and 4200 nonzeros\n",
      "Model fingerprint: 0x74cd585f\n",
      "Coefficient statistics:\n",
      "  Matrix range     [1e-02, 4e+02]\n",
      "  Objective range  [1e+00, 1e+00]\n",
      "  Bounds range     [0e+00, 0e+00]\n",
      "  RHS range        [2e+00, 1e+02]\n",
      "Presolve removed 2289 rows and 1665 columns\n",
      "Presolve time: 0.01s\n",
      "Presolve: All rows and columns removed\n",
      "Iteration    Objective       Primal Inf.    Dual Inf.      Time\n",
      "       0    1.3053183e+00   0.000000e+00   0.000000e+00      0s\n",
      "\n",
      "Solved in 0 iterations and 0.02 seconds (0.00 work units)\n",
      "Optimal objective  1.305318341e+00\n",
      "# ==========================================================\n",
      "# = Solver Results                                         =\n",
      "# ==========================================================\n",
      "# ----------------------------------------------------------\n",
      "#   Problem Information\n",
      "# ----------------------------------------------------------\n",
      "Problem: \n",
      "- Name: unknown\n",
      "  Lower bound: 6122.51782095512\n",
      "  Upper bound: 6122.517820955121\n",
      "  Number of objectives: 1\n",
      "  Number of constraints: 16162\n",
      "  Number of variables: 116631\n",
      "  Number of binary variables: 38748\n",
      "  Number of integer variables: 38748\n",
      "  Number of continuous variables: 39135\n",
      "  Number of nonzeros: 61003\n",
      "  Sense: minimize\n",
      "  Number of solutions: 3\n",
      "# ----------------------------------------------------------\n",
      "#   Solver Information\n",
      "# ----------------------------------------------------------\n",
      "Solver: \n",
      "- Name: Gurobi 10.02\n",
      "  Status: ok\n",
      "  Wallclock time: 4.239000082015991\n",
      "  Termination condition: optimal\n",
      "  Termination message: Model was solved to optimality (subject to tolerances), and an optimal solution is available.\n",
      "# ----------------------------------------------------------\n",
      "#   Solution Information\n",
      "# ----------------------------------------------------------\n",
      "Solution: \n",
      "- number of solutions: 0\n",
      "  number of solutions displayed: 0\n",
      "Model results validated and found to pass feasibility tests\n"
     ]
    }
   ],
   "source": [
    "#####################################################################################################\n",
    "# PARETO was produced under the DOE Produced Water Application for Beneficial Reuse Environmental\n",
    "# Impact and Treatment Optimization (PARETO), and is copyright (c) 2021-2023 by the software owners:\n",
    "# The Regents of the University of California, through Lawrence Berkeley National Laboratory, et al.\n",
    "# All rights reserved.\n",
    "#\n",
    "# NOTICE. This Software was developed under funding from the U.S. Department of Energy and the U.S.\n",
    "# Government consequently retains certain rights. As such, the U.S. Government has been granted for\n",
    "# itself and others acting on its behalf a paid-up, nonexclusive, irrevocable, worldwide license in\n",
    "# the Software to reproduce, distribute copies to the public, prepare derivative works, and perform\n",
    "# publicly and display publicly, and to permit others to do so.\n",
    "#####################################################################################################\n",
    "\n",
    "from pareto.strategic_water_management.strategic_produced_water_optimization import (\n",
    "    WaterQuality,\n",
    "    create_model,\n",
    "    Objectives,\n",
    "    solve_model,\n",
    "    PipelineCost,\n",
    "    PipelineCapacity,\n",
    ")\n",
    "from pareto.utilities.get_data import get_data\n",
    "from pareto.utilities.results import (\n",
    "    generate_report,\n",
    "    PrintValues,\n",
    "    OutputUnits,\n",
    "    is_feasible,\n",
    "    nostdout,\n",
    ")\n",
    "from importlib import resources\n",
    "from pyomo.environ import Constraint, value, units\n",
    "\n",
    "import matplotlib.pyplot as plt\n",
    "from matplotlib.lines import Line2D\n",
    "\n",
    "from ipywidgets import FloatText, Button, Layout, GridspecLayout, ToggleButtons\n",
    "from IPython.display import display\n",
    "\n",
    "from os import remove\n",
    "\n",
    "# Load data from Excel input file into Python\n",
    "with resources.path(\n",
    "    \"pareto.case_studies\",\n",
    "    \"strategic_toy_case_study.xlsx\",\n",
    ") as fpath:\n",
    "    [df_sets, df_parameters] = get_data(fpath)\n",
    "\n",
    "# Create Pyomo optimization model representing the produced water network\n",
    "strategic_model = create_model(\n",
    "    df_sets,\n",
    "    df_parameters,\n",
    "    default={\n",
    "        \"objective\": Objectives.cost,\n",
    "        \"pipeline_cost\": PipelineCost.distance_based,\n",
    "        \"pipeline_capacity\": PipelineCapacity.input,\n",
    "        \"node_capacity\": True,\n",
    "        \"water_quality\": WaterQuality.post_process,\n",
    "    },\n",
    ")\n",
    "\n",
    "# Solve Pyomo model with specified options\n",
    "options = {\n",
    "    \"deactivate_slacks\": True,\n",
    "    \"scale_model\": False,\n",
    "    \"scaling_factor\": 1000000,\n",
    "    \"running_time\": 300,\n",
    "    \"gap\": 0,\n",
    "    \"gurobi_numeric_focus\": 1,\n",
    "}\n",
    "results_obj = solve_model(model=strategic_model, options=options)\n",
    "\n",
    "# Check feasibility of the solved model\n",
    "def check_feasibility(model):\n",
    "    with nostdout():\n",
    "        feasibility_status = is_feasible(model)\n",
    "    if not feasibility_status:\n",
    "        print(\"Model results are not feasible and should not be trusted\")\n",
    "    else:\n",
    "        print(\"Model results validated and found to pass feasibility tests\")\n",
    "\n",
    "check_feasibility(strategic_model)\n",
    "\n",
    "[model, results_dict] = generate_report(\n",
    "    strategic_model,\n",
    "    # is_print=[PrintValues.essential],\n",
    "    output_units=OutputUnits.user_units,\n",
    "    fname=\"strategic_optimization_results_SRA_post_process.xlsx\",\n",
    ")"
   ]
  },
  {
   "cell_type": "markdown",
   "metadata": {},
   "source": [
    "### 2.1 Strategic model results (minimize cost)\n"
   ]
  },
  {
   "cell_type": "code",
   "execution_count": 3,
   "metadata": {},
   "outputs": [
    {
     "name": "stdout",
     "output_type": "stream",
     "text": [
      "For this case, PARETO recommends installing a desalination plant in R01 location\n",
      "Technology: MVC\n",
      "Capacity: J2\n",
      "Objective function value: 6122.517820955121\n",
      "Desalination plant capacity bbl/day = 10000\n"
     ]
    }
   ],
   "source": [
    "# Function to extract R01 buildout results\n",
    "def get_R01_results(results_dict):\n",
    "    for datapt in results_dict['vb_y_Treatment_dict'][1:]:\n",
    "        site, technology, capacity, built = datapt\n",
    "        if site == 'R01' and built == 1:\n",
    "            return technology, capacity\n",
    "\n",
    "# Extract R01 buildout results for default solved model\n",
    "technology, capacity = get_R01_results(results_dict)\n",
    "print('For this case, PARETO recommends installing a desalination plant in R01 location')\n",
    "print(f\"Technology: {technology}\")\n",
    "print(f\"Capacity: {capacity}\")\n",
    "print(f\"Objective function value: {value(strategic_model.v_Z)}\")\n",
    "\n",
    "# Check what capacity J1 corresponds to (in bbl/day) \n",
    "print('Desalination plant capacity bbl/day =', df_parameters[\"TreatmentCapacityIncrements\"][(\"MVC\", 'J1')])\n"
   ]
  },
  {
   "cell_type": "code",
   "execution_count": 4,
   "metadata": {},
   "outputs": [
    {
     "name": "stdout",
     "output_type": "stream",
     "text": [
      "p_nu_pad : Water Quality at pad [concentration]\n",
      "    Size=5, Index=s_P*s_QC, Domain=Any, Default=0, Mutable=True, Units=kg/l\n",
      "    Key             : Value\n",
      "    ('CP01', 'TDS') :            0.165376\n",
      "    ('PP01', 'TDS') :            0.142277\n",
      "    ('PP02', 'TDS') : 0.14099799999999998\n",
      "    ('PP03', 'TDS') :           0.1724902\n",
      "    ('PP04', 'TDS') : 0.25754699999999997\n"
     ]
    },
    {
     "data": {
      "image/png": "[encoded data removed]",
      "text/plain": [
       "<Figure size 640x480 with 1 Axes>"
      ]
     },
     "metadata": {},
     "output_type": "display_data"
    }
   ],
   "source": [
    "strategic_model.quality.p_nu_pad.display()\n",
    "\n",
    "time_period = []\n",
    "TDS = []\n",
    "for i in strategic_model.s_T:\n",
    "    TDS.append(1000*value(strategic_model.quality.v_Q['R01', 'TDS',i]))\n",
    "    time_period.append(i)\n",
    "\n",
    "from pareto.utilities.results import plot_sankey\n",
    "args = {\"plot_title\": \"Trucked Water\",\n",
    "       \"output_file\": \"min_cost_solution.html\"\n",
    "       }\n",
    "\n",
    "input_data = {\"pareto_var\": results_dict[\"v_F_Piped_dict\"], \n",
    "             }\n",
    "args = {\"plot_title\": \"Trucked Water\",\n",
    "       \"output_file\": \"Trucked_min_cost_solution.html\"\n",
    "       }\n",
    "\n",
    "input_data = {\"pareto_var\": results_dict[\"v_F_Trucked_dict\"], \n",
    "             }\n",
    "\n",
    "plot_sankey(input_data, args)\n",
    "\n",
    "import matplotlib.pyplot as plt\n",
    "plt.scatter(time_period, TDS)\n",
    "plt.show()"
   ]
  },
  {
   "cell_type": "markdown",
   "metadata": {},
   "source": [
    "## <a id='sensitivity'></a> Water quality limitations\n",
    "To perform sensitivity analysis, we can change model data and then re-solve the model to see the effects on the optimal solution. To demonstrate, we will change some of the costing data associated with desalination technologies to see the effect on which technology gets selected for site R01.\n",
    "\n",
    "First, we extract results on treatment buildout at R01 from our solved model:"
   ]
  },
  {
   "cell_type": "code",
   "execution_count": 5,
   "metadata": {},
   "outputs": [
    {
     "ename": "AttributeError",
     "evalue": "'ConcreteModel' object has no attribute 'CostObjectiveFunction'",
     "output_type": "error",
     "traceback": [
      "\u001b[1;31m---------------------------------------------------------------------------\u001b[0m",
      "\u001b[1;31mAttributeError\u001b[0m                            Traceback (most recent call last)",
      "Cell \u001b[1;32mIn[5], line 8\u001b[0m\n\u001b[0;32m      6\u001b[0m deactivate_slacks(strategic_model)\n\u001b[0;32m      7\u001b[0m strategic_model\u001b[38;5;241m.\u001b[39mquality\u001b[38;5;241m.\u001b[39mobjective\u001b[38;5;241m.\u001b[39mdeactivate()\n\u001b[1;32m----> 8\u001b[0m \u001b[43mstrategic_model\u001b[49m\u001b[38;5;241;43m.\u001b[39;49m\u001b[43mCostObjectiveFunction\u001b[49m\u001b[38;5;241m.\u001b[39mdeactivate()\n\u001b[0;32m     10\u001b[0m \u001b[38;5;28;01mfrom\u001b[39;00m \u001b[38;5;21;01mpyomo\u001b[39;00m\u001b[38;5;21;01m.\u001b[39;00m\u001b[38;5;21;01menviron\u001b[39;00m \u001b[38;5;28;01mimport\u001b[39;00m Constraint, Objective, minimize, SolverFactory, Param\n\u001b[0;32m     11\u001b[0m strategic_model\u001b[38;5;241m.\u001b[39mpenalty \u001b[38;5;241m=\u001b[39m Param(initialize\u001b[38;5;241m=\u001b[39m\u001b[38;5;241m1\u001b[39m,mutable\u001b[38;5;241m=\u001b[39m\u001b[38;5;28;01mTrue\u001b[39;00m)\n",
      "File \u001b[1;32mc:\\Users\\javal\\anaconda3\\envs\\pareto-env\\lib\\site-packages\\pyomo\\core\\base\\block.py:550\u001b[0m, in \u001b[0;36mBlockData.__getattr__\u001b[1;34m(self, val)\u001b[0m\n\u001b[0;32m    547\u001b[0m     \u001b[38;5;28;01mreturn\u001b[39;00m _component_decorator(\u001b[38;5;28mself\u001b[39m, ModelComponentFactory\u001b[38;5;241m.\u001b[39mget_class(val))\n\u001b[0;32m    548\u001b[0m \u001b[38;5;66;03m# Since the base classes don't support getattr, we can just\u001b[39;00m\n\u001b[0;32m    549\u001b[0m \u001b[38;5;66;03m# throw the \"normal\" AttributeError\u001b[39;00m\n\u001b[1;32m--> 550\u001b[0m \u001b[38;5;28;01mraise\u001b[39;00m \u001b[38;5;167;01mAttributeError\u001b[39;00m(\n\u001b[0;32m    551\u001b[0m     \u001b[38;5;124m\"\u001b[39m\u001b[38;5;124m'\u001b[39m\u001b[38;5;132;01m%s\u001b[39;00m\u001b[38;5;124m'\u001b[39m\u001b[38;5;124m object has no attribute \u001b[39m\u001b[38;5;124m'\u001b[39m\u001b[38;5;132;01m%s\u001b[39;00m\u001b[38;5;124m'\u001b[39m\u001b[38;5;124m\"\u001b[39m \u001b[38;5;241m%\u001b[39m (\u001b[38;5;28mself\u001b[39m\u001b[38;5;241m.\u001b[39m\u001b[38;5;18m__class__\u001b[39m\u001b[38;5;241m.\u001b[39m\u001b[38;5;18m__name__\u001b[39m, val)\n\u001b[0;32m    552\u001b[0m )\n",
      "\u001b[1;31mAttributeError\u001b[0m: 'ConcreteModel' object has no attribute 'CostObjectiveFunction'"
     ]
    }
   ],
   "source": [
    "from pareto.utilities.model_modifications import free_variables, deactivate_slacks\n",
    "\n",
    "# Step 2.1: unfix variables (MILP model)\n",
    "discrete_variables_names = {\"v_X\"} \n",
    "free_variables(strategic_model, discrete_variables_names)\n",
    "deactivate_slacks(strategic_model)\n",
    "strategic_model.quality.objective.deactivate()\n",
    "strategic_model.CostObjectiveFunction.deactivate()\n",
    "\n",
    "from pyomo.environ import Constraint, Objective, minimize, SolverFactory, Param\n",
    "strategic_model.penalty = Param(initialize=1,mutable=True)\n",
    "from pareto.utilities.solvers import get_solver, set_timeout\n",
    "def CostObjectiveFunctionRule2(model):\n",
    "            return model.v_Z == (\n",
    "                model.v_C_TotalSourced\n",
    "                + model.v_C_TotalDisposal\n",
    "                + model.v_C_TotalTreatment\n",
    "                + model.v_C_TotalReuse\n",
    "                + model.v_C_TotalPiping\n",
    "                + model.v_C_TotalStorage\n",
    "                + model.v_C_TotalTrucking\n",
    "                + model.p_alpha_AnnualizationRate\n",
    "                * (\n",
    "                    model.v_C_DisposalCapEx\n",
    "                    + model.v_C_StorageCapEx\n",
    "                    + model.v_C_TreatmentCapEx\n",
    "                    + model.v_C_PipelineCapEx\n",
    "                )\n",
    "                + model.v_C_Slack\n",
    "                - model.v_R_TotalStorage\n",
    "                + model.penalty*sum(model.quality.v_Q['R01', w, t] for w in model.s_QC for t in model.s_T)\n",
    "            )\n",
    "\n",
    "strategic_model.ObjectiveFunction = Constraint(\n",
    "            rule=CostObjectiveFunctionRule2, doc=\"MINLP objective function\"\n",
    "        )\n",
    "\n",
    "minlp_solver_source = 'gurobi'\n",
    "if minlp_solver_source == \"gams\":\n",
    "    mathoptsolver = \"dicopt\"\n",
    "    solver_options = {\n",
    "        \"tol\": 1e-3,\n",
    "        \"max_iter\": 1000,\n",
    "        \"constr_viol_tol\": 0.009,\n",
    "        \"acceptable_constr_viol_tol\": 0.01,\n",
    "        \"acceptable_tol\": 1e-6,\n",
    "        \"mu_strategy\": \"adaptive\",\n",
    "        \"mu_init\": 1e-10,\n",
    "        \"mu_max\": 1e-1,\n",
    "        \"print_user_options\": \"yes\",\n",
    "        \"warm_start_init_point\": \"yes\",\n",
    "        \"warm_start_mult_bound_push\": 1e-60,\n",
    "        \"warm_start_bound_push\": 1e-60,\n",
    "        #   'linear_solver': 'ma27',\n",
    "        #   'ma57_pivot_order': 4\n",
    "    }\n",
    "    import os\n",
    "\n",
    "    if not os.path.exists(\"temp\"):\n",
    "        os.makedirs(\"temp\")\n",
    "\n",
    "    with open(\"temp/\" + mathoptsolver + \".opt\", \"w\") as f:\n",
    "        for k, v in solver_options.items():\n",
    "            f.write(str(k) + \" \" + str(v) + \"\\n\")\n",
    "\n",
    "    results = SolverFactory(minlp_solver_source).solve(\n",
    "        strategic_model,\n",
    "        tee=True,\n",
    "        keepfiles=True,\n",
    "        solver=mathoptsolver,\n",
    "        tmpdir=\"temp\",\n",
    "        add_options=[\"gams_model.optfile=1;\"],\n",
    "    )\n",
    "\n",
    "elif minlp_solver_source == \"gurobi\":\n",
    "    print(\"solving with GUROBI\")\n",
    "    mathoptsolver = 'gurobi'\n",
    "    solver = SolverFactory(mathoptsolver)\n",
    "    solver.options[\"timeLimit\"] = 1500\n",
    "    solver.options[\"NonConvex\"] = 2\n",
    "    solver.options[\"MIPGap\"] = 0.5\n",
    "\n",
    "    results = solver.solve(strategic_model, tee=False, warmstart=True)\n",
    "\n",
    "\n",
    "elif minlp_solver_source == \"baron\":\n",
    "    solver = SolverFactory(\"baron\")\n",
    "    results = solver.solve(strategic_model, tee=False)\n",
    "\n",
    "elif minlp_solver_source == 'ipopt':\n",
    "    solver = get_solver('ipopt')\n",
    "    solver.options['maxiter'] = 100\n",
    "    results = solver.solve(strategic_model, tee=False)"
   ]
  },
  {
   "cell_type": "markdown",
   "metadata": {},
   "source": [
    "After solving the problem to minimize the inlet feed TDS concentration at R01, the optimizer has chonsen to build MVC desalination again. However, as it can be observed in the plot, the TDS concentration is lower. "
   ]
  },
  {
   "cell_type": "code",
   "execution_count": null,
   "metadata": {},
   "outputs": [
    {
     "name": "stdout",
     "output_type": "stream",
     "text": [
      "For this case, PARETO recommends installing a desalination plant in R01 location\n",
      "Technology: MVC\n",
      "Capacity: J1\n",
      "Objective function value: 16195.130799507127\n",
      "Desalination plant capacity bbl/day = 10000\n"
     ]
    },
    {
     "data": {
      "image/png": "[encoded data removed]",
      "text/plain": [
       "<Figure size 1500x500 with 1 Axes>"
      ]
     },
     "metadata": {},
     "output_type": "display_data"
    },
    {
     "ename": "ValueError",
     "evalue": "Mime type rendering requires nbformat>=4.2.0 but it is not installed",
     "output_type": "error",
     "traceback": [
      "\u001b[1;31m---------------------------------------------------------------------------\u001b[0m",
      "\u001b[1;31mValueError\u001b[0m                                Traceback (most recent call last)",
      "File \u001b[1;32mc:\\Users\\javal\\anaconda3\\envs\\pareto-env\\lib\\site-packages\\IPython\\core\\formatters.py:922\u001b[0m, in \u001b[0;36mIPythonDisplayFormatter.__call__\u001b[1;34m(self, obj)\u001b[0m\n\u001b[0;32m    920\u001b[0m method \u001b[39m=\u001b[39m get_real_method(obj, \u001b[39mself\u001b[39m\u001b[39m.\u001b[39mprint_method)\n\u001b[0;32m    921\u001b[0m \u001b[39mif\u001b[39;00m method \u001b[39mis\u001b[39;00m \u001b[39mnot\u001b[39;00m \u001b[39mNone\u001b[39;00m:\n\u001b[1;32m--> 922\u001b[0m     method()\n\u001b[0;32m    923\u001b[0m     \u001b[39mreturn\u001b[39;00m \u001b[39mTrue\u001b[39;00m\n",
      "File \u001b[1;32mc:\\Users\\javal\\anaconda3\\envs\\pareto-env\\lib\\site-packages\\plotly\\basedatatypes.py:842\u001b[0m, in \u001b[0;36mBaseFigure._ipython_display_\u001b[1;34m(self)\u001b[0m\n\u001b[0;32m    839\u001b[0m \u001b[39mimport\u001b[39;00m \u001b[39mplotly\u001b[39;00m\u001b[39m.\u001b[39;00m\u001b[39mio\u001b[39;00m \u001b[39mas\u001b[39;00m \u001b[39mpio\u001b[39;00m\n\u001b[0;32m    841\u001b[0m \u001b[39mif\u001b[39;00m pio\u001b[39m.\u001b[39mrenderers\u001b[39m.\u001b[39mrender_on_display \u001b[39mand\u001b[39;00m pio\u001b[39m.\u001b[39mrenderers\u001b[39m.\u001b[39mdefault:\n\u001b[1;32m--> 842\u001b[0m     pio\u001b[39m.\u001b[39;49mshow(\u001b[39mself\u001b[39;49m)\n\u001b[0;32m    843\u001b[0m \u001b[39melse\u001b[39;00m:\n\u001b[0;32m    844\u001b[0m     \u001b[39mprint\u001b[39m(\u001b[39mrepr\u001b[39m(\u001b[39mself\u001b[39m))\n",
      "File \u001b[1;32mc:\\Users\\javal\\anaconda3\\envs\\pareto-env\\lib\\site-packages\\plotly\\io\\_renderers.py:396\u001b[0m, in \u001b[0;36mshow\u001b[1;34m(fig, renderer, validate, **kwargs)\u001b[0m\n\u001b[0;32m    391\u001b[0m         \u001b[39mraise\u001b[39;00m \u001b[39mValueError\u001b[39;00m(\n\u001b[0;32m    392\u001b[0m             \u001b[39m\"\u001b[39m\u001b[39mMime type rendering requires ipython but it is not installed\u001b[39m\u001b[39m\"\u001b[39m\n\u001b[0;32m    393\u001b[0m         )\n\u001b[0;32m    395\u001b[0m     \u001b[39mif\u001b[39;00m \u001b[39mnot\u001b[39;00m nbformat \u001b[39mor\u001b[39;00m LooseVersion(nbformat\u001b[39m.\u001b[39m__version__) \u001b[39m<\u001b[39m LooseVersion(\u001b[39m\"\u001b[39m\u001b[39m4.2.0\u001b[39m\u001b[39m\"\u001b[39m):\n\u001b[1;32m--> 396\u001b[0m         \u001b[39mraise\u001b[39;00m \u001b[39mValueError\u001b[39;00m(\n\u001b[0;32m    397\u001b[0m             \u001b[39m\"\u001b[39m\u001b[39mMime type rendering requires nbformat>=4.2.0 but it is not installed\u001b[39m\u001b[39m\"\u001b[39m\n\u001b[0;32m    398\u001b[0m         )\n\u001b[0;32m    400\u001b[0m     ipython_display\u001b[39m.\u001b[39mdisplay(bundle, raw\u001b[39m=\u001b[39m\u001b[39mTrue\u001b[39;00m)\n\u001b[0;32m    402\u001b[0m \u001b[39m# external renderers\u001b[39;00m\n",
      "\u001b[1;31mValueError\u001b[0m: Mime type rendering requires nbformat>=4.2.0 but it is not installed"
     ]
    },
    {
     "data": {
      "application/vnd.plotly.v1+json": {
       "config": {
        "plotlyServerURL": "https://plot.ly"
       },
       "data": [
        {
         "link": {
          "source": [],
          "target": [],
          "value": []
         },
         "node": {
          "label": [],
          "line": {
           "color": "black",
           "width": 0.5
          },
          "pad": 30,
          "thickness": 15
         },
         "type": "sankey"
        }
       ],
       "layout": {
        "font": {
         "size": 20
        },
        "template": {
         "data": {
          "bar": [
           {
            "error_x": {
             "color": "#2a3f5f"
            },
            "error_y": {
             "color": "#2a3f5f"
            },
            "marker": {
             "line": {
              "color": "#E5ECF6",
              "width": 0.5
             },
             "pattern": {
              "fillmode": "overlay",
              "size": 10,
              "solidity": 0.2
             }
            },
            "type": "bar"
           }
          ],
          "barpolar": [
           {
            "marker": {
             "line": {
              "color": "#E5ECF6",
              "width": 0.5
             },
             "pattern": {
              "fillmode": "overlay",
              "size": 10,
              "solidity": 0.2
             }
            },
            "type": "barpolar"
           }
          ],
          "carpet": [
           {
            "aaxis": {
             "endlinecolor": "#2a3f5f",
             "gridcolor": "white",
             "linecolor": "white",
             "minorgridcolor": "white",
             "startlinecolor": "#2a3f5f"
            },
            "baxis": {
             "endlinecolor": "#2a3f5f",
             "gridcolor": "white",
             "linecolor": "white",
             "minorgridcolor": "white",
             "startlinecolor": "#2a3f5f"
            },
            "type": "carpet"
           }
          ],
          "choropleth": [
           {
            "colorbar": {
             "outlinewidth": 0,
             "ticks": ""
            },
            "type": "choropleth"
           }
          ],
          "contour": [
           {
            "colorbar": {
             "outlinewidth": 0,
             "ticks": ""
            },
            "colorscale": [
             [
              0,
              "#0d0887"
             ],
             [
              0.1111111111111111,
              "#46039f"
             ],
             [
              0.2222222222222222,
              "#7201a8"
             ],
             [
              0.3333333333333333,
              "#9c179e"
             ],
             [
              0.4444444444444444,
              "#bd3786"
             ],
             [
              0.5555555555555556,
              "#d8576b"
             ],
             [
              0.6666666666666666,
              "#ed7953"
             ],
             [
              0.7777777777777778,
              "#fb9f3a"
             ],
             [
              0.8888888888888888,
              "#fdca26"
             ],
             [
              1,
              "#f0f921"
             ]
            ],
            "type": "contour"
           }
          ],
          "contourcarpet": [
           {
            "colorbar": {
             "outlinewidth": 0,
             "ticks": ""
            },
            "type": "contourcarpet"
           }
          ],
          "heatmap": [
           {
            "colorbar": {
             "outlinewidth": 0,
             "ticks": ""
            },
            "colorscale": [
             [
              0,
              "#0d0887"
             ],
             [
              0.1111111111111111,
              "#46039f"
             ],
             [
              0.2222222222222222,
              "#7201a8"
             ],
             [
              0.3333333333333333,
              "#9c179e"
             ],
             [
              0.4444444444444444,
              "#bd3786"
             ],
             [
              0.5555555555555556,
              "#d8576b"
             ],
             [
              0.6666666666666666,
              "#ed7953"
             ],
             [
              0.7777777777777778,
              "#fb9f3a"
             ],
             [
              0.8888888888888888,
              "#fdca26"
             ],
             [
              1,
              "#f0f921"
             ]
            ],
            "type": "heatmap"
           }
          ],
          "heatmapgl": [
           {
            "colorbar": {
             "outlinewidth": 0,
             "ticks": ""
            },
            "colorscale": [
             [
              0,
              "#0d0887"
             ],
             [
              0.1111111111111111,
              "#46039f"
             ],
             [
              0.2222222222222222,
              "#7201a8"
             ],
             [
              0.3333333333333333,
              "#9c179e"
             ],
             [
              0.4444444444444444,
              "#bd3786"
             ],
             [
              0.5555555555555556,
              "#d8576b"
             ],
             [
              0.6666666666666666,
              "#ed7953"
             ],
             [
              0.7777777777777778,
              "#fb9f3a"
             ],
             [
              0.8888888888888888,
              "#fdca26"
             ],
             [
              1,
              "#f0f921"
             ]
            ],
            "type": "heatmapgl"
           }
          ],
          "histogram": [
           {
            "marker": {
             "pattern": {
              "fillmode": "overlay",
              "size": 10,
              "solidity": 0.2
             }
            },
            "type": "histogram"
           }
          ],
          "histogram2d": [
           {
            "colorbar": {
             "outlinewidth": 0,
             "ticks": ""
            },
            "colorscale": [
             [
              0,
              "#0d0887"
             ],
             [
              0.1111111111111111,
              "#46039f"
             ],
             [
              0.2222222222222222,
              "#7201a8"
             ],
             [
              0.3333333333333333,
              "#9c179e"
             ],
             [
              0.4444444444444444,
              "#bd3786"
             ],
             [
              0.5555555555555556,
              "#d8576b"
             ],
             [
              0.6666666666666666,
              "#ed7953"
             ],
             [
              0.7777777777777778,
              "#fb9f3a"
             ],
             [
              0.8888888888888888,
              "#fdca26"
             ],
             [
              1,
              "#f0f921"
             ]
            ],
            "type": "histogram2d"
           }
          ],
          "histogram2dcontour": [
           {
            "colorbar": {
             "outlinewidth": 0,
             "ticks": ""
            },
            "colorscale": [
             [
              0,
              "#0d0887"
             ],
             [
              0.1111111111111111,
              "#46039f"
             ],
             [
              0.2222222222222222,
              "#7201a8"
             ],
             [
              0.3333333333333333,
              "#9c179e"
             ],
             [
              0.4444444444444444,
              "#bd3786"
             ],
             [
              0.5555555555555556,
              "#d8576b"
             ],
             [
              0.6666666666666666,
              "#ed7953"
             ],
             [
              0.7777777777777778,
              "#fb9f3a"
             ],
             [
              0.8888888888888888,
              "#fdca26"
             ],
             [
              1,
              "#f0f921"
             ]
            ],
            "type": "histogram2dcontour"
           }
          ],
          "mesh3d": [
           {
            "colorbar": {
             "outlinewidth": 0,
             "ticks": ""
            },
            "type": "mesh3d"
           }
          ],
          "parcoords": [
           {
            "line": {
             "colorbar": {
              "outlinewidth": 0,
              "ticks": ""
             }
            },
            "type": "parcoords"
           }
          ],
          "pie": [
           {
            "automargin": true,
            "type": "pie"
           }
          ],
          "scatter": [
           {
            "fillpattern": {
             "fillmode": "overlay",
             "size": 10,
             "solidity": 0.2
            },
            "type": "scatter"
           }
          ],
          "scatter3d": [
           {
            "line": {
             "colorbar": {
              "outlinewidth": 0,
              "ticks": ""
             }
            },
            "marker": {
             "colorbar": {
              "outlinewidth": 0,
              "ticks": ""
             }
            },
            "type": "scatter3d"
           }
          ],
          "scattercarpet": [
           {
            "marker": {
             "colorbar": {
              "outlinewidth": 0,
              "ticks": ""
             }
            },
            "type": "scattercarpet"
           }
          ],
          "scattergeo": [
           {
            "marker": {
             "colorbar": {
              "outlinewidth": 0,
              "ticks": ""
             }
            },
            "type": "scattergeo"
           }
          ],
          "scattergl": [
           {
            "marker": {
             "colorbar": {
              "outlinewidth": 0,
              "ticks": ""
             }
            },
            "type": "scattergl"
           }
          ],
          "scattermapbox": [
           {
            "marker": {
             "colorbar": {
              "outlinewidth": 0,
              "ticks": ""
             }
            },
            "type": "scattermapbox"
           }
          ],
          "scatterpolar": [
           {
            "marker": {
             "colorbar": {
              "outlinewidth": 0,
              "ticks": ""
             }
            },
            "type": "scatterpolar"
           }
          ],
          "scatterpolargl": [
           {
            "marker": {
             "colorbar": {
              "outlinewidth": 0,
              "ticks": ""
             }
            },
            "type": "scatterpolargl"
           }
          ],
          "scatterternary": [
           {
            "marker": {
             "colorbar": {
              "outlinewidth": 0,
              "ticks": ""
             }
            },
            "type": "scatterternary"
           }
          ],
          "surface": [
           {
            "colorbar": {
             "outlinewidth": 0,
             "ticks": ""
            },
            "colorscale": [
             [
              0,
              "#0d0887"
             ],
             [
              0.1111111111111111,
              "#46039f"
             ],
             [
              0.2222222222222222,
              "#7201a8"
             ],
             [
              0.3333333333333333,
              "#9c179e"
             ],
             [
              0.4444444444444444,
              "#bd3786"
             ],
             [
              0.5555555555555556,
              "#d8576b"
             ],
             [
              0.6666666666666666,
              "#ed7953"
             ],
             [
              0.7777777777777778,
              "#fb9f3a"
             ],
             [
              0.8888888888888888,
              "#fdca26"
             ],
             [
              1,
              "#f0f921"
             ]
            ],
            "type": "surface"
           }
          ],
          "table": [
           {
            "cells": {
             "fill": {
              "color": "#EBF0F8"
             },
             "line": {
              "color": "white"
             }
            },
            "header": {
             "fill": {
              "color": "#C8D4E3"
             },
             "line": {
              "color": "white"
             }
            },
            "type": "table"
           }
          ]
         },
         "layout": {
          "annotationdefaults": {
           "arrowcolor": "#2a3f5f",
           "arrowhead": 0,
           "arrowwidth": 1
          },
          "autotypenumbers": "strict",
          "coloraxis": {
           "colorbar": {
            "outlinewidth": 0,
            "ticks": ""
           }
          },
          "colorscale": {
           "diverging": [
            [
             0,
             "#8e0152"
            ],
            [
             0.1,
             "#c51b7d"
            ],
            [
             0.2,
             "#de77ae"
            ],
            [
             0.3,
             "#f1b6da"
            ],
            [
             0.4,
             "#fde0ef"
            ],
            [
             0.5,
             "#f7f7f7"
            ],
            [
             0.6,
             "#e6f5d0"
            ],
            [
             0.7,
             "#b8e186"
            ],
            [
             0.8,
             "#7fbc41"
            ],
            [
             0.9,
             "#4d9221"
            ],
            [
             1,
             "#276419"
            ]
           ],
           "sequential": [
            [
             0,
             "#0d0887"
            ],
            [
             0.1111111111111111,
             "#46039f"
            ],
            [
             0.2222222222222222,
             "#7201a8"
            ],
            [
             0.3333333333333333,
             "#9c179e"
            ],
            [
             0.4444444444444444,
             "#bd3786"
            ],
            [
             0.5555555555555556,
             "#d8576b"
            ],
            [
             0.6666666666666666,
             "#ed7953"
            ],
            [
             0.7777777777777778,
             "#fb9f3a"
            ],
            [
             0.8888888888888888,
             "#fdca26"
            ],
            [
             1,
             "#f0f921"
            ]
           ],
           "sequentialminus": [
            [
             0,
             "#0d0887"
            ],
            [
             0.1111111111111111,
             "#46039f"
            ],
            [
             0.2222222222222222,
             "#7201a8"
            ],
            [
             0.3333333333333333,
             "#9c179e"
            ],
            [
             0.4444444444444444,
             "#bd3786"
            ],
            [
             0.5555555555555556,
             "#d8576b"
            ],
            [
             0.6666666666666666,
             "#ed7953"
            ],
            [
             0.7777777777777778,
             "#fb9f3a"
            ],
            [
             0.8888888888888888,
             "#fdca26"
            ],
            [
             1,
             "#f0f921"
            ]
           ]
          },
          "colorway": [
           "#636efa",
           "#EF553B",
           "#00cc96",
           "#ab63fa",
           "#FFA15A",
           "#19d3f3",
           "#FF6692",
           "#B6E880",
           "#FF97FF",
           "#FECB52"
          ],
          "font": {
           "color": "#2a3f5f"
          },
          "geo": {
           "bgcolor": "white",
           "lakecolor": "white",
           "landcolor": "#E5ECF6",
           "showlakes": true,
           "showland": true,
           "subunitcolor": "white"
          },
          "hoverlabel": {
           "align": "left"
          },
          "hovermode": "closest",
          "mapbox": {
           "style": "light"
          },
          "paper_bgcolor": "white",
          "plot_bgcolor": "#E5ECF6",
          "polar": {
           "angularaxis": {
            "gridcolor": "white",
            "linecolor": "white",
            "ticks": ""
           },
           "bgcolor": "#E5ECF6",
           "radialaxis": {
            "gridcolor": "white",
            "linecolor": "white",
            "ticks": ""
           }
          },
          "scene": {
           "xaxis": {
            "backgroundcolor": "#E5ECF6",
            "gridcolor": "white",
            "gridwidth": 2,
            "linecolor": "white",
            "showbackground": true,
            "ticks": "",
            "zerolinecolor": "white"
           },
           "yaxis": {
            "backgroundcolor": "#E5ECF6",
            "gridcolor": "white",
            "gridwidth": 2,
            "linecolor": "white",
            "showbackground": true,
            "ticks": "",
            "zerolinecolor": "white"
           },
           "zaxis": {
            "backgroundcolor": "#E5ECF6",
            "gridcolor": "white",
            "gridwidth": 2,
            "linecolor": "white",
            "showbackground": true,
            "ticks": "",
            "zerolinecolor": "white"
           }
          },
          "shapedefaults": {
           "line": {
            "color": "#2a3f5f"
           }
          },
          "ternary": {
           "aaxis": {
            "gridcolor": "white",
            "linecolor": "white",
            "ticks": ""
           },
           "baxis": {
            "gridcolor": "white",
            "linecolor": "white",
            "ticks": ""
           },
           "bgcolor": "#E5ECF6",
           "caxis": {
            "gridcolor": "white",
            "linecolor": "white",
            "ticks": ""
           }
          },
          "title": {
           "x": 0.05
          },
          "xaxis": {
           "automargin": true,
           "gridcolor": "white",
           "linecolor": "white",
           "ticks": "",
           "title": {
            "standoff": 15
           },
           "zerolinecolor": "white",
           "zerolinewidth": 2
          },
          "yaxis": {
           "automargin": true,
           "gridcolor": "white",
           "linecolor": "white",
           "ticks": "",
           "title": {
            "standoff": 15
           },
           "zerolinecolor": "white",
           "zerolinewidth": 2
          }
         }
        },
        "title": {
         "font": {
          "size": 40
         },
         "text": "Trucked Water",
         "x": 0.5
        }
       }
      },
      "text/html": [
       "<div>                        <script type=\"text/javascript\">window.PlotlyConfig = {MathJaxConfig: 'local'};</script>\n",
       "        <script src=\"https://cdn.plot.ly/plotly-2.16.1.min.js\"></script>                <div id=\"70fd752d-9053-4b5f-9e07-a6c91cbce22d\" class=\"plotly-graph-div\" style=\"height:100%; width:100%;\"></div>            <script type=\"text/javascript\">                                    window.PLOTLYENV=window.PLOTLYENV || {};                                    if (document.getElementById(\"70fd752d-9053-4b5f-9e07-a6c91cbce22d\")) {                    Plotly.newPlot(                        \"70fd752d-9053-4b5f-9e07-a6c91cbce22d\",                        [{\"link\":{\"source\":[],\"target\":[],\"value\":[]},\"node\":{\"label\":[],\"line\":{\"color\":\"black\",\"width\":0.5},\"pad\":30,\"thickness\":15},\"type\":\"sankey\"}],                        {\"template\":{\"data\":{\"histogram2dcontour\":[{\"type\":\"histogram2dcontour\",\"colorbar\":{\"outlinewidth\":0,\"ticks\":\"\"},\"colorscale\":[[0.0,\"#0d0887\"],[0.1111111111111111,\"#46039f\"],[0.2222222222222222,\"#7201a8\"],[0.3333333333333333,\"#9c179e\"],[0.4444444444444444,\"#bd3786\"],[0.5555555555555556,\"#d8576b\"],[0.6666666666666666,\"#ed7953\"],[0.7777777777777778,\"#fb9f3a\"],[0.8888888888888888,\"#fdca26\"],[1.0,\"#f0f921\"]]}],\"choropleth\":[{\"type\":\"choropleth\",\"colorbar\":{\"outlinewidth\":0,\"ticks\":\"\"}}],\"histogram2d\":[{\"type\":\"histogram2d\",\"colorbar\":{\"outlinewidth\":0,\"ticks\":\"\"},\"colorscale\":[[0.0,\"#0d0887\"],[0.1111111111111111,\"#46039f\"],[0.2222222222222222,\"#7201a8\"],[0.3333333333333333,\"#9c179e\"],[0.4444444444444444,\"#bd3786\"],[0.5555555555555556,\"#d8576b\"],[0.6666666666666666,\"#ed7953\"],[0.7777777777777778,\"#fb9f3a\"],[0.8888888888888888,\"#fdca26\"],[1.0,\"#f0f921\"]]}],\"heatmap\":[{\"type\":\"heatmap\",\"colorbar\":{\"outlinewidth\":0,\"ticks\":\"\"},\"colorscale\":[[0.0,\"#0d0887\"],[0.1111111111111111,\"#46039f\"],[0.2222222222222222,\"#7201a8\"],[0.3333333333333333,\"#9c179e\"],[0.4444444444444444,\"#bd3786\"],[0.5555555555555556,\"#d8576b\"],[0.6666666666666666,\"#ed7953\"],[0.7777777777777778,\"#fb9f3a\"],[0.8888888888888888,\"#fdca26\"],[1.0,\"#f0f921\"]]}],\"heatmapgl\":[{\"type\":\"heatmapgl\",\"colorbar\":{\"outlinewidth\":0,\"ticks\":\"\"},\"colorscale\":[[0.0,\"#0d0887\"],[0.1111111111111111,\"#46039f\"],[0.2222222222222222,\"#7201a8\"],[0.3333333333333333,\"#9c179e\"],[0.4444444444444444,\"#bd3786\"],[0.5555555555555556,\"#d8576b\"],[0.6666666666666666,\"#ed7953\"],[0.7777777777777778,\"#fb9f3a\"],[0.8888888888888888,\"#fdca26\"],[1.0,\"#f0f921\"]]}],\"contourcarpet\":[{\"type\":\"contourcarpet\",\"colorbar\":{\"outlinewidth\":0,\"ticks\":\"\"}}],\"contour\":[{\"type\":\"contour\",\"colorbar\":{\"outlinewidth\":0,\"ticks\":\"\"},\"colorscale\":[[0.0,\"#0d0887\"],[0.1111111111111111,\"#46039f\"],[0.2222222222222222,\"#7201a8\"],[0.3333333333333333,\"#9c179e\"],[0.4444444444444444,\"#bd3786\"],[0.5555555555555556,\"#d8576b\"],[0.6666666666666666,\"#ed7953\"],[0.7777777777777778,\"#fb9f3a\"],[0.8888888888888888,\"#fdca26\"],[1.0,\"#f0f921\"]]}],\"surface\":[{\"type\":\"surface\",\"colorbar\":{\"outlinewidth\":0,\"ticks\":\"\"},\"colorscale\":[[0.0,\"#0d0887\"],[0.1111111111111111,\"#46039f\"],[0.2222222222222222,\"#7201a8\"],[0.3333333333333333,\"#9c179e\"],[0.4444444444444444,\"#bd3786\"],[0.5555555555555556,\"#d8576b\"],[0.6666666666666666,\"#ed7953\"],[0.7777777777777778,\"#fb9f3a\"],[0.8888888888888888,\"#fdca26\"],[1.0,\"#f0f921\"]]}],\"mesh3d\":[{\"type\":\"mesh3d\",\"colorbar\":{\"outlinewidth\":0,\"ticks\":\"\"}}],\"scatter\":[{\"fillpattern\":{\"fillmode\":\"overlay\",\"size\":10,\"solidity\":0.2},\"type\":\"scatter\"}],\"parcoords\":[{\"type\":\"parcoords\",\"line\":{\"colorbar\":{\"outlinewidth\":0,\"ticks\":\"\"}}}],\"scatterpolargl\":[{\"type\":\"scatterpolargl\",\"marker\":{\"colorbar\":{\"outlinewidth\":0,\"ticks\":\"\"}}}],\"bar\":[{\"error_x\":{\"color\":\"#2a3f5f\"},\"error_y\":{\"color\":\"#2a3f5f\"},\"marker\":{\"line\":{\"color\":\"#E5ECF6\",\"width\":0.5},\"pattern\":{\"fillmode\":\"overlay\",\"size\":10,\"solidity\":0.2}},\"type\":\"bar\"}],\"scattergeo\":[{\"type\":\"scattergeo\",\"marker\":{\"colorbar\":{\"outlinewidth\":0,\"ticks\":\"\"}}}],\"scatterpolar\":[{\"type\":\"scatterpolar\",\"marker\":{\"colorbar\":{\"outlinewidth\":0,\"ticks\":\"\"}}}],\"histogram\":[{\"marker\":{\"pattern\":{\"fillmode\":\"overlay\",\"size\":10,\"solidity\":0.2}},\"type\":\"histogram\"}],\"scattergl\":[{\"type\":\"scattergl\",\"marker\":{\"colorbar\":{\"outlinewidth\":0,\"ticks\":\"\"}}}],\"scatter3d\":[{\"type\":\"scatter3d\",\"line\":{\"colorbar\":{\"outlinewidth\":0,\"ticks\":\"\"}},\"marker\":{\"colorbar\":{\"outlinewidth\":0,\"ticks\":\"\"}}}],\"scattermapbox\":[{\"type\":\"scattermapbox\",\"marker\":{\"colorbar\":{\"outlinewidth\":0,\"ticks\":\"\"}}}],\"scatterternary\":[{\"type\":\"scatterternary\",\"marker\":{\"colorbar\":{\"outlinewidth\":0,\"ticks\":\"\"}}}],\"scattercarpet\":[{\"type\":\"scattercarpet\",\"marker\":{\"colorbar\":{\"outlinewidth\":0,\"ticks\":\"\"}}}],\"carpet\":[{\"aaxis\":{\"endlinecolor\":\"#2a3f5f\",\"gridcolor\":\"white\",\"linecolor\":\"white\",\"minorgridcolor\":\"white\",\"startlinecolor\":\"#2a3f5f\"},\"baxis\":{\"endlinecolor\":\"#2a3f5f\",\"gridcolor\":\"white\",\"linecolor\":\"white\",\"minorgridcolor\":\"white\",\"startlinecolor\":\"#2a3f5f\"},\"type\":\"carpet\"}],\"table\":[{\"cells\":{\"fill\":{\"color\":\"#EBF0F8\"},\"line\":{\"color\":\"white\"}},\"header\":{\"fill\":{\"color\":\"#C8D4E3\"},\"line\":{\"color\":\"white\"}},\"type\":\"table\"}],\"barpolar\":[{\"marker\":{\"line\":{\"color\":\"#E5ECF6\",\"width\":0.5},\"pattern\":{\"fillmode\":\"overlay\",\"size\":10,\"solidity\":0.2}},\"type\":\"barpolar\"}],\"pie\":[{\"automargin\":true,\"type\":\"pie\"}]},\"layout\":{\"autotypenumbers\":\"strict\",\"colorway\":[\"#636efa\",\"#EF553B\",\"#00cc96\",\"#ab63fa\",\"#FFA15A\",\"#19d3f3\",\"#FF6692\",\"#B6E880\",\"#FF97FF\",\"#FECB52\"],\"font\":{\"color\":\"#2a3f5f\"},\"hovermode\":\"closest\",\"hoverlabel\":{\"align\":\"left\"},\"paper_bgcolor\":\"white\",\"plot_bgcolor\":\"#E5ECF6\",\"polar\":{\"bgcolor\":\"#E5ECF6\",\"angularaxis\":{\"gridcolor\":\"white\",\"linecolor\":\"white\",\"ticks\":\"\"},\"radialaxis\":{\"gridcolor\":\"white\",\"linecolor\":\"white\",\"ticks\":\"\"}},\"ternary\":{\"bgcolor\":\"#E5ECF6\",\"aaxis\":{\"gridcolor\":\"white\",\"linecolor\":\"white\",\"ticks\":\"\"},\"baxis\":{\"gridcolor\":\"white\",\"linecolor\":\"white\",\"ticks\":\"\"},\"caxis\":{\"gridcolor\":\"white\",\"linecolor\":\"white\",\"ticks\":\"\"}},\"coloraxis\":{\"colorbar\":{\"outlinewidth\":0,\"ticks\":\"\"}},\"colorscale\":{\"sequential\":[[0.0,\"#0d0887\"],[0.1111111111111111,\"#46039f\"],[0.2222222222222222,\"#7201a8\"],[0.3333333333333333,\"#9c179e\"],[0.4444444444444444,\"#bd3786\"],[0.5555555555555556,\"#d8576b\"],[0.6666666666666666,\"#ed7953\"],[0.7777777777777778,\"#fb9f3a\"],[0.8888888888888888,\"#fdca26\"],[1.0,\"#f0f921\"]],\"sequentialminus\":[[0.0,\"#0d0887\"],[0.1111111111111111,\"#46039f\"],[0.2222222222222222,\"#7201a8\"],[0.3333333333333333,\"#9c179e\"],[0.4444444444444444,\"#bd3786\"],[0.5555555555555556,\"#d8576b\"],[0.6666666666666666,\"#ed7953\"],[0.7777777777777778,\"#fb9f3a\"],[0.8888888888888888,\"#fdca26\"],[1.0,\"#f0f921\"]],\"diverging\":[[0,\"#8e0152\"],[0.1,\"#c51b7d\"],[0.2,\"#de77ae\"],[0.3,\"#f1b6da\"],[0.4,\"#fde0ef\"],[0.5,\"#f7f7f7\"],[0.6,\"#e6f5d0\"],[0.7,\"#b8e186\"],[0.8,\"#7fbc41\"],[0.9,\"#4d9221\"],[1,\"#276419\"]]},\"xaxis\":{\"gridcolor\":\"white\",\"linecolor\":\"white\",\"ticks\":\"\",\"title\":{\"standoff\":15},\"zerolinecolor\":\"white\",\"automargin\":true,\"zerolinewidth\":2},\"yaxis\":{\"gridcolor\":\"white\",\"linecolor\":\"white\",\"ticks\":\"\",\"title\":{\"standoff\":15},\"zerolinecolor\":\"white\",\"automargin\":true,\"zerolinewidth\":2},\"scene\":{\"xaxis\":{\"backgroundcolor\":\"#E5ECF6\",\"gridcolor\":\"white\",\"linecolor\":\"white\",\"showbackground\":true,\"ticks\":\"\",\"zerolinecolor\":\"white\",\"gridwidth\":2},\"yaxis\":{\"backgroundcolor\":\"#E5ECF6\",\"gridcolor\":\"white\",\"linecolor\":\"white\",\"showbackground\":true,\"ticks\":\"\",\"zerolinecolor\":\"white\",\"gridwidth\":2},\"zaxis\":{\"backgroundcolor\":\"#E5ECF6\",\"gridcolor\":\"white\",\"linecolor\":\"white\",\"showbackground\":true,\"ticks\":\"\",\"zerolinecolor\":\"white\",\"gridwidth\":2}},\"shapedefaults\":{\"line\":{\"color\":\"#2a3f5f\"}},\"annotationdefaults\":{\"arrowcolor\":\"#2a3f5f\",\"arrowhead\":0,\"arrowwidth\":1},\"geo\":{\"bgcolor\":\"white\",\"landcolor\":\"#E5ECF6\",\"subunitcolor\":\"white\",\"showland\":true,\"showlakes\":true,\"lakecolor\":\"white\"},\"title\":{\"x\":0.05},\"mapbox\":{\"style\":\"light\"}}},\"title\":{\"font\":{\"size\":40},\"text\":\"Trucked Water\",\"x\":0.5},\"font\":{\"size\":20}},                        {\"responsive\": true}                    )                };                            </script>        </div>"
      ],
      "text/plain": [
       "Figure({\n",
       "    'data': [{'link': {'source': [], 'target': [], 'value': []},\n",
       "              'node': {'label': [], 'line': {'color': 'black', 'width': 0.5}, 'pad': 30, 'thickness': 15},\n",
       "              'type': 'sankey'}],\n",
       "    'layout': {'font': {'size': 20},\n",
       "               'template': '...',\n",
       "               'title': {'font': {'size': 40}, 'text': 'Trucked Water', 'x': 0.5}}\n",
       "})"
      ]
     },
     "execution_count": 6,
     "metadata": {},
     "output_type": "execute_result"
    }
   ],
   "source": [
    "# Extract R01 buildout results for default solved model\n",
    "technology, capacity = get_R01_results(results_dict)\n",
    "print('For this case, PARETO recommends installing a desalination plant in R01 location')\n",
    "print(f\"Technology: {technology}\")\n",
    "print(f\"Capacity: {capacity}\")\n",
    "print(f\"Objective function value: {value(strategic_model.v_Z)}\")\n",
    "\n",
    "# Check what capacity J1 corresponds to (in bbl/day) \n",
    "print('Desalination plant capacity bbl/day =', df_parameters[\"TreatmentCapacityIncrements\"][(\"MVC\", 'J1')])\n",
    "\n",
    "TDS_reopt = []\n",
    "time = []\n",
    "for i in strategic_model.s_T:\n",
    "    TDS_reopt.append(1000*value(strategic_model.quality.v_Q['R01', 'TDS',i]))\n",
    "    time.append(i)\n",
    "\n",
    "plt.rcParams['figure.figsize'] = [15, 5]\n",
    "plt.title(\"Feed Concentration - R01 MVC plant\")\n",
    "plt.scatter(time, TDS_reopt, label='min TDS concentration')\n",
    "plt.xlabel(\"Time - weeks\")\n",
    "plt.ylabel(\"TDS - mg/l\")\n",
    "plt.scatter(time, TDS, label='min cost')\n",
    "plt.legend(loc='lower right')\n",
    "plt.show()\n",
    "\n",
    "args = {\"plot_title\": \"Piped Water\",\n",
    "       \"output_file\": \"Piped_min_TDS_solution.html\"\n",
    "       }\n",
    "\n",
    "input_data = {\"pareto_var\": results_dict[\"v_F_Piped_dict\"], \n",
    "             }\n",
    "\n",
    "args = {\"plot_title\": \"Trucked Water\",\n",
    "       \"output_file\": \"Trucked_min_TDS_solution.html\"\n",
    "       }\n",
    "\n",
    "input_data = {\"pareto_var\": results_dict[\"v_F_Trucked_dict\"], \n",
    "             }\n",
    "plot_sankey(input_data, args)"
   ]
  },
  {
   "cell_type": "markdown",
   "metadata": {},
   "source": [
    "As it can be observed, PARETO blended water and re-routed high concentration produced water to clean brine site and sent produced water with lower TDS levels to the desalination plant. As expected, this solution affected the overall network cost (both opex and capex)."
   ]
  },
  {
   "cell_type": "markdown",
   "metadata": {},
   "source": [
    "1. Change name to rtn\n",
    "2. Doc strings \n",
    "3. Errors check on data \n",
    "4. check data with daniel \n",
    "5. Ask hector to get on board. "
   ]
  },
  {
   "cell_type": "code",
   "execution_count": null,
   "metadata": {},
   "outputs": [],
   "source": []
  }
 ],
 "metadata": {
  "kernelspec": {
   "display_name": "Python 3 (ipykernel)",
   "language": "python",
   "name": "python3"
  },
  "language_info": {
   "codemirror_mode": {
    "name": "ipython",
    "version": 3
   },
   "file_extension": ".py",
   "mimetype": "text/x-python",
   "name": "python",
   "nbconvert_exporter": "python",
   "pygments_lexer": "ipython3",
   "version": "3.8.17"
  }
 },
 "nbformat": 4,
 "nbformat_minor": 2
}
